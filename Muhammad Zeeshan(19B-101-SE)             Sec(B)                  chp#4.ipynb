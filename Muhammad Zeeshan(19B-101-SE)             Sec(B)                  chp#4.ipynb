{
 "cells": [
  {
   "cell_type": "markdown",
   "metadata": {},
   "source": [
    "# Pratice Problem 4.1"
   ]
  },
  {
   "cell_type": "code",
   "execution_count": 13,
   "metadata": {},
   "outputs": [
    {
     "name": "stdout",
     "output_type": "stream",
     "text": [
      "234 \n",
      " 78 \n",
      " 1234567 \n",
      " 0123 \n",
      " 789\n"
     ]
    }
   ],
   "source": [
    "s = '0123456789'\n",
    "a = s[2:5]\n",
    "b = s[7:9]\n",
    "c = s[1:8]\n",
    "d = s[:4]\n",
    "e = s[7:]\n",
    "print(a, '\\n',b,'\\n',c,'\\n',d,'\\n',e)"
   ]
  },
  {
   "cell_type": "markdown",
   "metadata": {},
   "source": [
    "# Pratice Problem 4.2"
   ]
  },
  {
   "cell_type": "code",
   "execution_count": 14,
   "metadata": {},
   "outputs": [
    {
     "name": "stdout",
     "output_type": "stream",
     "text": [
      "2 \n",
      " 13 \n",
      " it will be a cloudy day today\n"
     ]
    }
   ],
   "source": [
    "s = 'it will be a sunny day today'\n",
    "count = s.count('day')\n",
    "weather = s.find('sunny')\n",
    "change = s.replace('sunny','cloudy')\n",
    "print(count,'\\n',weather,'\\n',change)"
   ]
  },
  {
   "cell_type": "markdown",
   "metadata": {},
   "source": [
    "# Pratice Problem 4.3"
   ]
  },
  {
   "cell_type": "code",
   "execution_count": 62,
   "metadata": {},
   "outputs": [
    {
     "name": "stdout",
     "output_type": "stream",
     "text": [
      "Muhammad\tZeeshan\tTanoli\n"
     ]
    }
   ],
   "source": [
    "first = 'Muhammad'\n",
    "middel = 'Zeeshan'\n",
    "last = 'Tanoli'\n",
    "print(first,middle,last, sep='\\t')"
   ]
  },
  {
   "cell_type": "markdown",
   "metadata": {},
   "source": [
    "# Pratice Problem 4.4"
   ]
  },
  {
   "cell_type": "code",
   "execution_count": 16,
   "metadata": {},
   "outputs": [
    {
     "name": "stdout",
     "output_type": "stream",
     "text": [
      "2, 3, 4, 6, "
     ]
    }
   ],
   "source": [
    "def rangee(n):\n",
    "    for i in range(2, n+1):\n",
    "        if i%2 == 0 or i%3 ==0:\n",
    "            print(i,end=', ')\n",
    "rangee(6)"
   ]
  },
  {
   "cell_type": "markdown",
   "metadata": {},
   "source": [
    "# Pratice Problem 4.5"
   ]
  },
  {
   "cell_type": "code",
   "execution_count": 17,
   "metadata": {},
   "outputs": [
    {
     "name": "stdout",
     "output_type": "stream",
     "text": [
      "Muhammad Zeeshan\n",
      "85 karachi\n",
      "sindh, \n",
      "03482933722 \n"
     ]
    }
   ],
   "source": [
    "first = 'Muhammad'\n",
    "last = 'Zeeshan'\n",
    "number = '03482933722'\n",
    "street = '85'\n",
    "city = 'karachi'\n",
    "state = 'sindh'\n",
    "fstring = '{0} {1}\\n{3} {4}\\n{5}, \\n{2} '\n",
    "print(fstring.format(first,last,number,street,city,state))"
   ]
  },
  {
   "cell_type": "markdown",
   "metadata": {},
   "source": [
    "# Pratice Problem 4.6"
   ]
  },
  {
   "cell_type": "code",
   "execution_count": 18,
   "metadata": {},
   "outputs": [
    {
     "name": "stdout",
     "output_type": "stream",
     "text": [
      "DeMoines  jim       Sophomore     3.45\n",
      "Pierre    Sophie    Sophomore     4.00\n",
      "Columbus  Maria     Senior        2.50\n",
      "Pheonix   River     Jumior        2.45\n",
      "Olympus   Edgar     junior        3.99\n"
     ]
    }
   ],
   "source": [
    "def roster(students):\n",
    "    \"print the average grade for the roaster of students\"\n",
    "    for student in students: \n",
    "        print(\"{:10}{:10}{:10}{:8.2f}\".format(student[0],student[1],student[2],student[3]))\n",
    "    \n",
    "students=[]\n",
    "students.append([\"DeMoines\",\"jim\",\"Sophomore\",3.45])\n",
    "students.append([\"Pierre\",\"Sophie\",\"Sophomore\",4.0])\n",
    "students.append([\"Columbus\",\"Maria\",\"Senior\",2.5])\n",
    "students.append([\"Pheonix\",\"River\",\"Jumior\",2.45])\n",
    "students.append([\"Olympus\",\"Edgar\",\"junior\",3.99])\n",
    "roster(students)"
   ]
  },
  {
   "cell_type": "markdown",
   "metadata": {},
   "source": [
    "# Exercise 4.7"
   ]
  },
  {
   "cell_type": "code",
   "execution_count": 19,
   "metadata": {},
   "outputs": [
    {
     "name": "stdout",
     "output_type": "stream",
     "text": [
      "'Thusday, July 13 2017'\n",
      "09:22 PM central daylight time on 06/December/19\n",
      "I will meet you on Friday 22 06 at 09:22 PM\n"
     ]
    }
   ],
   "source": [
    "import time\n",
    "t=time.localtime(1500000000)\n",
    "weekday=\"Thusday\"\n",
    "month=\"July\"\n",
    "day=13\n",
    "year=2017\n",
    "print(time.strftime(\"'{}, {} {} {}'\").format(weekday,month,day,year))\n",
    "print(time.strftime(\"%I:%M %p central daylight time on %d/%B/%y\",time.localtime()))\n",
    "print(time.strftime(\"I will meet you on %A %M %d at %I:%M %p\",time.localtime()))"
   ]
  },
  {
   "cell_type": "markdown",
   "metadata": {},
   "source": [
    "# Pratice Problem 4.8"
   ]
  },
  {
   "cell_type": "code",
   "execution_count": 20,
   "metadata": {},
   "outputs": [
    {
     "name": "stdout",
     "output_type": "stream",
     "text": [
      "1\n"
     ]
    }
   ],
   "source": [
    "def stringcount(filename,target):\n",
    "    \"returns the number of occurence of target in file filename\"\n",
    "    infile=open(filename)\n",
    "    content=infile.read()\n",
    "    infile.close()\n",
    "    return content.count(target)\n",
    "print(stringcount(\"example.txt\",\"is\"))"
   ]
  },
  {
   "cell_type": "markdown",
   "metadata": {},
   "source": [
    "# Pratice Problem 4.9"
   ]
  },
  {
   "cell_type": "code",
   "execution_count": 21,
   "metadata": {},
   "outputs": [
    {
     "name": "stdout",
     "output_type": "stream",
     "text": [
      "['my', 'name', 'is', 'muhammad', 'zeeshan', 'and', 'i', 'am', 'studying', 'se', 'in', 'uit']\n"
     ]
    }
   ],
   "source": [
    "def words(filename):\n",
    "    \"returns the list of words in the file filename\"\n",
    "    infile=open(filename,\"r\")\n",
    "    content=infile.read()\n",
    "    infile.close()\n",
    "    table=str.maketrans('!,.:;?',6*' ')\n",
    "    content=content.translate(table)\n",
    "    content=content.lower()\n",
    "    return content.split()\n",
    "print(words(\"example.txt\"))"
   ]
  },
  {
   "cell_type": "markdown",
   "metadata": {},
   "source": [
    "# Pratice Problem 4.10"
   ]
  },
  {
   "cell_type": "code",
   "execution_count": 22,
   "metadata": {},
   "outputs": [
    {
     "name": "stdout",
     "output_type": "stream",
     "text": [
      "My name is Muhammad Zeeshan and i am studying SE in UIT\n"
     ]
    }
   ],
   "source": [
    "def myGrep(filename,target):\n",
    "    \"it will print the target of the string line\"\n",
    "    infile=open(filename)\n",
    "    for line in infile:\n",
    "        if target in line:\n",
    "            print(line,end=\"\")\n",
    "    return\"\"\n",
    "print(myGrep(\"example.txt\",\"is\"))"
   ]
  },
  {
   "cell_type": "markdown",
   "metadata": {},
   "source": [
    "# Pratice Problem 4.11"
   ]
  },
  {
   "cell_type": "code",
   "execution_count": 30,
   "metadata": {},
   "outputs": [
    {
     "name": "stdout",
     "output_type": "stream",
     "text": [
      "7\n",
      "hello\n",
      "[4, 5, 6]\n",
      "0\n",
      "1\n",
      "2\n",
      "3\n",
      "4\n",
      "5\n",
      "6\n",
      "7\n",
      "8\n",
      "9\n"
     ]
    }
   ],
   "source": [
    "print((3+4)or[3+4])\n",
    "print(\"hello\")\n",
    "lst=[4,5,6]\n",
    "print(lst)\n",
    "for i in range (10):\n",
    "    print(i)"
   ]
  },
  {
   "cell_type": "markdown",
   "metadata": {},
   "source": [
    "# Exercise 4.12"
   ]
  },
  {
   "cell_type": "code",
   "execution_count": 31,
   "metadata": {},
   "outputs": [
    {
     "name": "stdout",
     "output_type": "stream",
     "text": [
      "bcd\n",
      "abc\n",
      "defghijklmnopqrstuvwx\n",
      "wxy\n",
      "wxyz\n"
     ]
    }
   ],
   "source": [
    "s=\"abcdefghijklmnopqrstuvwxyz\"\n",
    "print(s[1:4])\n",
    "print(s[0:3])\n",
    "print(s[3:24])\n",
    "print(s[22:25])\n",
    "print(s[22:])"
   ]
  },
  {
   "cell_type": "markdown",
   "metadata": {},
   "source": [
    "# Exercise 4.13"
   ]
  },
  {
   "cell_type": "code",
   "execution_count": 29,
   "metadata": {},
   "outputs": [
    {
     "name": "stdout",
     "output_type": "stream",
     "text": [
      "bc\n",
      "abcdefghijklmn\n",
      "opqrstuvwxyz\n",
      "bcdefghijklmnopqrstuvwxy\n"
     ]
    }
   ],
   "source": [
    "s=\"abcdefghijklmnopqrstuvwxyz\"\n",
    "print(s[1:3])\n",
    "print(s[:14])\n",
    "print(s[14:])\n",
    "print(s[1:-1])"
   ]
  },
  {
   "cell_type": "markdown",
   "metadata": {},
   "source": [
    "# Exercise 4.14"
   ]
  },
  {
   "cell_type": "code",
   "execution_count": 33,
   "metadata": {},
   "outputs": [
    {
     "name": "stdout",
     "output_type": "stream",
     "text": [
      "128.0.0.1--[12/Feb/2011:10:31:08-0600]\"GET/docs/test.txt HTTP/1.0\"\n",
      "128.0.0.1--[12/Feb/2011:10:31:08-0600]\"GET/docs/test.txt\n",
      "12/Feb/2011:10:31:08-0600\n"
     ]
    }
   ],
   "source": [
    "log='128.0.0.1--[12/Feb/2011:10:31:08-0600]\"GET/docs/test.txt HTTP/1.0\"'\n",
    "address=log.split()[0]\n",
    "data=log[log.find(\"[\")+1:log.find(\"]\")]\n",
    "print(log)\n",
    "print(address)\n",
    "print(data)"
   ]
  },
  {
   "cell_type": "markdown",
   "metadata": {},
   "source": [
    "# Exercise 4.15"
   ]
  },
  {
   "cell_type": "code",
   "execution_count": 34,
   "metadata": {},
   "outputs": [
    {
     "name": "stdout",
     "output_type": "stream",
     "text": [
      "10\t20\t30\t40\t50\t60\t\n",
      "\n",
      "10-20-30-40-50-60-\n",
      "\n",
      "10&20&30&40&50&60&\n",
      "\n",
      "10,20,30,40,50,60,"
     ]
    }
   ],
   "source": [
    "s=['10','20','30','40','50','60']\n",
    "for i in s:\n",
    "    print(i,end=\"\\t\")\n",
    "print(\"\\n\")\n",
    "for i in s:\n",
    "    print(i,end=\"-\")\n",
    "print(\"\\n\")  \n",
    "for i in s:\n",
    "    print(i,end=\"&\")\n",
    "print(\"\\n\")\n",
    "for i in s:\n",
    "    print(i,end=\",\")"
   ]
  },
  {
   "cell_type": "markdown",
   "metadata": {},
   "source": [
    "# Exercise 4.16"
   ]
  },
  {
   "cell_type": "code",
   "execution_count": 109,
   "metadata": {},
   "outputs": [
    {
     "name": "stdout",
     "output_type": "stream",
     "text": [
      "the first word: bass\n",
      "the second word: salmon\n",
      "the third word: whitefish\n",
      "True\n"
     ]
    }
   ],
   "source": [
    "a = input('the first word: ')\n",
    "b = input('the second word: ')\n",
    "c = input('the third word: ')\n",
    "if a<b<c:\n",
    "    print('True')"
   ]
  },
  {
   "cell_type": "markdown",
   "metadata": {},
   "source": [
    "# Exercise 4.17"
   ]
  },
  {
   "cell_type": "code",
   "execution_count": 41,
   "metadata": {},
   "outputs": [
    {
     "name": "stdout",
     "output_type": "stream",
     "text": [
      "length \n",
      " 44 count \n",
      " 2 replace \n",
      " the xxxxxx of this book is that it is xxxxxx\n"
     ]
    }
   ],
   "source": [
    "message = 'the secret of this book is that it is secret'\n",
    "length = len(message)\n",
    "count = message.count('secret')\n",
    "replace = message.replace('secret','xxxxxx')\n",
    "print(\"length \\n\",length,\"count \\n\",count,\"replace \\n\",replace)"
   ]
  },
  {
   "cell_type": "markdown",
   "metadata": {},
   "source": [
    "# Exercise 4.18"
   ]
  },
  {
   "cell_type": "code",
   "execution_count": 45,
   "metadata": {},
   "outputs": [
    {
     "name": "stdout",
     "output_type": "stream",
     "text": [
      "\"it was the best of time  it was the worst of times  it was the age of wisdome  it was the age of foolishness  it was the epoch of belief  it was the epoch of incredulity  it was    \"\n"
     ]
    }
   ],
   "source": [
    "s = '\"it was the best of time, it was the worst of times; it was the age of wisdome, it was the age of foolishness; it was the epoch of belief, it was the epoch of incredulity; it was ...\"'\n",
    "table = str.maketrans(';.,\\n','    ')\n",
    "news = s.translate(table)\n",
    "print(news)"
   ]
  },
  {
   "cell_type": "code",
   "execution_count": 108,
   "metadata": {},
   "outputs": [
    {
     "name": "stdout",
     "output_type": "stream",
     "text": [
      "\"it was the best of time  it was the worst of times  it was the age of wisdome  it was the age of foolishness  it was the epoch of belief  it was the epoch of incredulity  it was    \"\n"
     ]
    }
   ],
   "source": [
    "News = news.strip()\n",
    "print(news)"
   ]
  },
  {
   "cell_type": "code",
   "execution_count": 107,
   "metadata": {},
   "outputs": [
    {
     "name": "stdout",
     "output_type": "stream",
     "text": [
      "\"it was the best of time  it was the worst of times  it was the age of wisdome  it was the age of foolishness  it was the epoch of belief  it was the epoch of incredulity  it was    \"\n"
     ]
    }
   ],
   "source": [
    "new = news.lower()\n",
    "print(new)"
   ]
  },
  {
   "cell_type": "code",
   "execution_count": 56,
   "metadata": {},
   "outputs": [
    {
     "data": {
      "text/plain": [
       "7"
      ]
     },
     "execution_count": 56,
     "metadata": {},
     "output_type": "execute_result"
    }
   ],
   "source": [
    "s.count(\"it was\")"
   ]
  },
  {
   "cell_type": "code",
   "execution_count": 106,
   "metadata": {},
   "outputs": [
    {
     "data": {
      "text/plain": [
       "'\"it is the best of time, it is the worst of times; it is the age of wisdome, it is the age of foolishness; it is the epoch of belief, it is the epoch of incredulity; it is ...\"'"
      ]
     },
     "execution_count": 106,
     "metadata": {},
     "output_type": "execute_result"
    }
   ],
   "source": [
    "s.replace('was','is')"
   ]
  },
  {
   "cell_type": "code",
   "execution_count": 105,
   "metadata": {},
   "outputs": [
    {
     "name": "stdout",
     "output_type": "stream",
     "text": [
      "['\"it', 'was', 'the', 'best', 'of', 'time,', 'it', 'was', 'the', 'worst', 'of', 'times;', 'it', 'was', 'the', 'age', 'of', 'wisdome,', 'it', 'was', 'the', 'age', 'of', 'foolishness;', 'it', 'was', 'the', 'epoch', 'of', 'belief,', 'it', 'was', 'the', 'epoch', 'of', 'incredulity;', 'it', 'was', '...\"']\n"
     ]
    }
   ],
   "source": [
    "lis=s.split()\n",
    "print(lis)"
   ]
  },
  {
   "cell_type": "markdown",
   "metadata": {},
   "source": [
    "# Exercise 4.19"
   ]
  },
  {
   "cell_type": "code",
   "execution_count": 61,
   "metadata": {},
   "outputs": [
    {
     "data": {
      "text/plain": [
       "'Tanoli,Muhammad '"
      ]
     },
     "execution_count": 61,
     "metadata": {},
     "output_type": "execute_result"
    }
   ],
   "source": [
    "first = 'Muhammad'\n",
    "middle = 'Zeeshan'\n",
    "last = 'Tanoli'\n",
    "\"{1},{0} \".format(first,last)"
   ]
  },
  {
   "cell_type": "code",
   "execution_count": 63,
   "metadata": {},
   "outputs": [
    {
     "data": {
      "text/plain": [
       "'Tanoli,Muhammad Z.'"
      ]
     },
     "execution_count": 63,
     "metadata": {},
     "output_type": "execute_result"
    }
   ],
   "source": [
    "\"{2},{0} {1}.\".format(first,middle[0],last)"
   ]
  },
  {
   "cell_type": "code",
   "execution_count": 64,
   "metadata": {},
   "outputs": [
    {
     "data": {
      "text/plain": [
       "'Muhammad Z. Tanoli'"
      ]
     },
     "execution_count": 64,
     "metadata": {},
     "output_type": "execute_result"
    }
   ],
   "source": [
    "\"{0} {1}. {2}\".format(first,middle[0],last)"
   ]
  },
  {
   "cell_type": "code",
   "execution_count": 65,
   "metadata": {},
   "outputs": [
    {
     "data": {
      "text/plain": [
       "'Z.T. Muhammad'"
      ]
     },
     "execution_count": 65,
     "metadata": {},
     "output_type": "execute_result"
    }
   ],
   "source": [
    "\"{1}.{2}. {0}\".format(first,middle[0],last[0])"
   ]
  },
  {
   "cell_type": "code",
   "execution_count": 66,
   "metadata": {},
   "outputs": [
    {
     "data": {
      "text/plain": [
       "'Tanoli, M.'"
      ]
     },
     "execution_count": 66,
     "metadata": {},
     "output_type": "execute_result"
    }
   ],
   "source": [
    "\"{1}, {0}.\".format(first[0],last)"
   ]
  },
  {
   "cell_type": "markdown",
   "metadata": {},
   "source": [
    "# Exercise 4.20"
   ]
  },
  {
   "cell_type": "code",
   "execution_count": 67,
   "metadata": {},
   "outputs": [
    {
     "data": {
      "text/plain": [
       "'From:tim@abc.com to:tom@xyz.com subject:hello!'"
      ]
     },
     "execution_count": 67,
     "metadata": {},
     "output_type": "execute_result"
    }
   ],
   "source": [
    "sender = 'tim@abc.com'\n",
    "recipient = 'tom@xyz.com'\n",
    "subject = 'hello!'\n",
    "'From:{0} to:{1} subject:{2}'.format(sender,recipient,subject)"
   ]
  },
  {
   "cell_type": "markdown",
   "metadata": {},
   "source": [
    "# Exercise 4.21"
   ]
  },
  {
   "cell_type": "code",
   "execution_count": 68,
   "metadata": {},
   "outputs": [
    {
     "data": {
      "text/plain": [
       "'pi=3.1 , e=2.7'"
      ]
     },
     "execution_count": 68,
     "metadata": {},
     "output_type": "execute_result"
    }
   ],
   "source": [
    "import math\n",
    "'pi={:1.2} , e={:1.2}'.format(math.pi,math.e)"
   ]
  },
  {
   "cell_type": "code",
   "execution_count": 70,
   "metadata": {},
   "outputs": [
    {
     "data": {
      "text/plain": [
       "'pi=3.14 , e=2.72'"
      ]
     },
     "execution_count": 70,
     "metadata": {},
     "output_type": "execute_result"
    }
   ],
   "source": [
    "'pi={:1.3} , e={:1.3}'.format(math.pi,math.e)"
   ]
  },
  {
   "cell_type": "code",
   "execution_count": 71,
   "metadata": {},
   "outputs": [
    {
     "data": {
      "text/plain": [
       "'pi=3.1415927e+00 , e=2.7182818e+00'"
      ]
     },
     "execution_count": 71,
     "metadata": {},
     "output_type": "execute_result"
    }
   ],
   "source": [
    "'pi={:1.7e} , e={:1.7e}'.format(math.pi,math.e)"
   ]
  },
  {
   "cell_type": "code",
   "execution_count": 72,
   "metadata": {},
   "outputs": [
    {
     "data": {
      "text/plain": [
       "'pi=3.1416 , e=2.7183'"
      ]
     },
     "execution_count": 72,
     "metadata": {},
     "output_type": "execute_result"
    }
   ],
   "source": [
    "'pi={:1.5} , e={:1.5}'.format(math.pi,math.e)"
   ]
  },
  {
   "cell_type": "markdown",
   "metadata": {},
   "source": [
    "# Problem 4.22"
   ]
  },
  {
   "cell_type": "code",
   "execution_count": 102,
   "metadata": {},
   "outputs": [
    {
     "name": "stdout",
     "output_type": "stream",
     "text": [
      "July\n"
     ]
    }
   ],
   "source": [
    "def month(x):\n",
    "    month={1:\"Jan\",2:\"Feb\",3:\"March\",4:\"April\",5:\"May\",6:\"June\",7:\"July\",8:\"Aug\",9:\"Sep\",10:\"Oct\",11:\"Nov\",12:\"Dec\"}\n",
    "    x=month[x]\n",
    "    return x\n",
    "print(month(7))"
   ]
  },
  {
   "cell_type": "markdown",
   "metadata": {},
   "source": [
    "# Problem  4.23"
   ]
  },
  {
   "cell_type": "code",
   "execution_count": 104,
   "metadata": {},
   "outputs": [
    {
     "name": "stdout",
     "output_type": "stream",
     "text": [
      "4.0\n"
     ]
    }
   ],
   "source": [
    "def average(n):\n",
    "    sentence=n\n",
    "    words=sentence.split()\n",
    "    return sum(len(words)for word in words)/len(words)    \n",
    "print(average(\"I am Muhammaad Zeeshan.\"))"
   ]
  },
  {
   "cell_type": "markdown",
   "metadata": {},
   "source": [
    "# Problem  4.24"
   ]
  },
  {
   "cell_type": "code",
   "execution_count": 99,
   "metadata": {},
   "outputs": [
    {
     "name": "stdout",
     "output_type": "stream",
     "text": [
      "How do you spell winners?\n",
      "I know, I know!\n",
      "HUSKIES\n",
      "And that's how you spell winner!\n",
      "GO Huskies!\n",
      "\n"
     ]
    }
   ],
   "source": [
    "def cheers(name):\n",
    "    print(\"How do you spell winners?\")\n",
    "    print(\"I know, I know!\")\n",
    "    for a in name:\n",
    "        print(a.upper(),end=\"\")\n",
    "    print(\"\\nAnd that's how you spell winner!\")\n",
    "    print(\"GO \"+name+\"!\")\n",
    "    return\"\"\n",
    "print(cheers(\"Huskies\"))"
   ]
  },
  {
   "cell_type": "markdown",
   "metadata": {},
   "source": [
    "# Exercise 4.25"
   ]
  },
  {
   "cell_type": "code",
   "execution_count": 78,
   "metadata": {},
   "outputs": [
    {
     "name": "stdout",
     "output_type": "stream",
     "text": [
      "a,e,i,o,and u appear, respectively 1,2,1,2,2\n",
      "\n"
     ]
    }
   ],
   "source": [
    "def vowelcount(text):\n",
    "    a=text.count(\"a\")\n",
    "    e=text.count(\"e\")\n",
    "    i=text.count(\"i\")\n",
    "    o=text.count(\"o\")\n",
    "    u=text.count(\"u\")\n",
    "    print(\"a,e,i,o,and u appear, respectively {0},{1},{2},{3},{4}\".format(a,e,i,o,u))\n",
    "    return\"\"\n",
    "print(vowelcount(\"i am count number of ten\"))"
   ]
  },
  {
   "cell_type": "markdown",
   "metadata": {},
   "source": [
    "# Problem  4.26"
   ]
  },
  {
   "cell_type": "code",
   "execution_count": 80,
   "metadata": {},
   "outputs": [
    {
     "name": "stdout",
     "output_type": "stream",
     "text": [
      "\n"
     ]
    }
   ],
   "source": [
    "def crypto(filename):\n",
    "\n",
    "    infile=open(filename,\"r\")\n",
    "    content=infile.read()\n",
    "    infile.close()\n",
    "    outfile = open(\"secret1.txt\",\"w\")\n",
    "    content=content.replace(\"Zeeshan\",\"xxxxxx\")\n",
    "    outfile.write(content)\n",
    "    outfile.close()\n",
    "    return\"\"\n",
    "print(crypto(\"example.txt\"))"
   ]
  },
  {
   "cell_type": "markdown",
   "metadata": {},
   "source": [
    "# Problem  4.27"
   ]
  },
  {
   "cell_type": "code",
   "execution_count": 103,
   "metadata": {},
   "outputs": [
    {
     "name": "stdout",
     "output_type": "stream",
     "text": [
      "\n"
     ]
    }
   ],
   "source": [
    "def fcopy(file1,file2):\n",
    "    infile1 = open(file1,\"r\")\n",
    "    text = infile1.read()\n",
    "    infile1.close()\n",
    "    outfile = open(file2,\"w\")\n",
    "    outfile.write(text)\n",
    "    outfile.close()\n",
    "    return\"\"\n",
    "print(fcopy(\"example.txt\",\"grades.txt\"))"
   ]
  },
  {
   "cell_type": "markdown",
   "metadata": {},
   "source": [
    "# Problem  4.28"
   ]
  },
  {
   "cell_type": "code",
   "execution_count": 97,
   "metadata": {},
   "outputs": [
    {
     "name": "stdout",
     "output_type": "stream",
     "text": [
      "6\n"
     ]
    }
   ],
   "source": [
    "#4.28\n",
    "def links(file):\n",
    "    infile = open(file,\"r\")\n",
    "    linelist=infile.readlines()\n",
    "    infile.close()\n",
    "    return len(linelist)\n",
    "print(links(\"links.html.txt\"))"
   ]
  },
  {
   "cell_type": "markdown",
   "metadata": {},
   "source": [
    "# Problem 4.29"
   ]
  },
  {
   "cell_type": "code",
   "execution_count": 82,
   "metadata": {},
   "outputs": [
    {
     "name": "stdout",
     "output_type": "stream",
     "text": [
      "line Count:  1 \n",
      "Word Count:  12 \n",
      "Character Count:  55\n"
     ]
    }
   ],
   "source": [
    "def stats(filename):\n",
    "    infile = open(filename,'r')\n",
    "    linelist = infile.readlines()\n",
    "    infile.close()\n",
    "    infile = open(filename,'r')\n",
    "    content = infile.read()\n",
    "    wordlist = content.split()\n",
    "    infile.close()\n",
    "    print(\"line Count: \",len(linelist),\"\\nWord Count: \",len(wordlist),\"\\nCharacter Count: \",len(content))\n",
    "stats(\"example.txt\")"
   ]
  },
  {
   "cell_type": "markdown",
   "metadata": {},
   "source": [
    "# Problem 4.30"
   ]
  },
  {
   "cell_type": "code",
   "execution_count": 91,
   "metadata": {},
   "outputs": [
    {
     "name": "stdout",
     "output_type": "stream",
     "text": [
      " 4 students got A\n",
      " 3 students got A+\n",
      " 3 students got B\n",
      " 1 students got B+\n",
      " 4 students got C\n",
      " 1 students got C+\n",
      " 2 students got F\n",
      "\n"
     ]
    }
   ],
   "source": [
    "def distribution(filename):\n",
    "    A=0\n",
    "    A_=0\n",
    "    B=0\n",
    "    B_=0\n",
    "    C=0\n",
    "    C_=0\n",
    "    F=0\n",
    "    infile = open(filename,'r')\n",
    "    content = infile.read()\n",
    "    infile.close()\n",
    "    wordlist = content.split()\n",
    "    for i in wordlist:\n",
    "        if i == \"A\":\n",
    "            A = A+1\n",
    "        elif i == \"A+\":\n",
    "            A_ = A_+1\n",
    "        elif i == \"B\":\n",
    "            B = B+1\n",
    "        elif i == \"B+\":\n",
    "            B_ = B_+1\n",
    "        elif i == \"C\":\n",
    "            C =C +1\n",
    "        elif i == \"C+\":\n",
    "            C_ =C_+1\n",
    "        elif i == \"F\":\n",
    "            F = F+1\n",
    "    print(\"\",A,\"students got A\\n\",A_,\"students got A+\\n\",B,\"students got B\\n\",B_,\"students got B+\\n\",C,\"students got C\\n\",C_,\"students got C+\\n\",F,\"students got F\\n\")\n",
    "distribution(\"grades.txt\")    "
   ]
  },
  {
   "cell_type": "markdown",
   "metadata": {},
   "source": [
    "# Problem  4.31"
   ]
  },
  {
   "cell_type": "code",
   "execution_count": 84,
   "metadata": {},
   "outputs": [
    {
     "data": {
      "text/plain": [
       "False"
      ]
     },
     "execution_count": 84,
     "metadata": {},
     "output_type": "execute_result"
    }
   ],
   "source": [
    "def duplicate(filename):\n",
    "    infile = open(filename,'r')\n",
    "    content = infile.read()\n",
    "    wordlist = content.split()\n",
    "    for i in wordlist:\n",
    "        wordlist.remove(i)\n",
    "        if i in wordlist:\n",
    "            return True\n",
    "        else:\n",
    "            return False\n",
    "duplicate(\"example.txt\")"
   ]
  },
  {
   "cell_type": "markdown",
   "metadata": {},
   "source": [
    "# Problem 4.32"
   ]
  },
  {
   "cell_type": "code",
   "execution_count": 85,
   "metadata": {},
   "outputs": [],
   "source": [
    "def censor(filename):\n",
    "    infile = open(filename,'r')\n",
    "    content = infile.read()\n",
    "    wordlist = content.split()\n",
    "    newfile = []\n",
    "    for i in wordlist:\n",
    "        if len(i) ==4:\n",
    "            newfile.append(\"xxxx \")\n",
    "        else:\n",
    "            newfile.append(i)\n",
    "            newfile.append(\" \")\n",
    "    outfile = open(\"censor.txt\",\"w+\")\n",
    "    for i in newfile:\n",
    "        outfile.write(i)\n",
    "censor(\"example.txt\")"
   ]
  }
 ],
 "metadata": {
  "kernelspec": {
   "display_name": "Python 3",
   "language": "python",
   "name": "python3"
  },
  "language_info": {
   "codemirror_mode": {
    "name": "ipython",
    "version": 3
   },
   "file_extension": ".py",
   "mimetype": "text/x-python",
   "name": "python",
   "nbconvert_exporter": "python",
   "pygments_lexer": "ipython3",
   "version": "3.7.4"
  }
 },
 "nbformat": 4,
 "nbformat_minor": 2
}
